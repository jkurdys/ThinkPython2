{
 "cells": [
  {
   "cell_type": "code",
   "execution_count": 1,
   "id": "36b507b6",
   "metadata": {},
   "outputs": [],
   "source": [
    "import time"
   ]
  },
  {
   "cell_type": "code",
   "execution_count": 63,
   "id": "db2ebcc3",
   "metadata": {},
   "outputs": [
    {
     "data": {
      "text/plain": [
       "1637354558.431381"
      ]
     },
     "execution_count": 63,
     "metadata": {},
     "output_type": "execute_result"
    }
   ],
   "source": [
    "now = time.time()\n",
    "now"
   ]
  },
  {
   "cell_type": "code",
   "execution_count": 80,
   "id": "c768fe84",
   "metadata": {},
   "outputs": [],
   "source": [
    "def to_days_time():\n",
    "    now = time.time()\n",
    "    \n",
    "    days = int(now // 60 // 60 // 24) \n",
    "    print(f\"It's been {days} days,\")\n",
    "    \n",
    "    tot_hrs = now // 60 // 60\n",
    "    hours = int(tot_hrs - days * 24)\n",
    "    print(f\"{hours} hours,\")\n",
    "    \n",
    "    tot_mins = now // 60\n",
    "    minutes = int(tot_mins - (tot_mins//60) * 60)\n",
    "    print(f\"{minutes} minutes,\")\n",
    "    \n",
    "    tot_secs = now // 1\n",
    "    seconds = int(tot_secs - (tot_secs//60) * 60)\n",
    "    print(f\"and {seconds} seconds since the last epoch\")\n",
    "    \n",
    "    return days, hours, minutes, seconds"
   ]
  },
  {
   "cell_type": "code",
   "execution_count": 81,
   "id": "ef025a2f",
   "metadata": {},
   "outputs": [
    {
     "name": "stdout",
     "output_type": "stream",
     "text": [
      "It's been 18950 days,\n",
      "20 hours,\n",
      "58 minutes,\n",
      "and 43 seconds since the last epoch\n"
     ]
    },
    {
     "data": {
      "text/plain": [
       "(18950, 20, 58, 43)"
      ]
     },
     "execution_count": 81,
     "metadata": {},
     "output_type": "execute_result"
    }
   ],
   "source": [
    "to_days_time()"
   ]
  },
  {
   "cell_type": "code",
   "execution_count": 105,
   "id": "afc329d9",
   "metadata": {},
   "outputs": [],
   "source": [
    "def check_fermat():\n",
    "    a, b, c, n = input(\"Provide a list positive integer values for a, b, c, and n (n>2) to check Fermat \\n\")\n",
    "    if \n",
    "    a, b, c, n = int(a), int(b), int(c), int(n)\n",
    "    print(sum([a, b, c, n]))\n",
    "    \n",
    "    if a**n + b**n == c**n:\n",
    "        print('Fermat was wrong')\n",
    "    else:\n",
    "        print('try again')\n",
    "    "
   ]
  },
  {
   "cell_type": "code",
   "execution_count": 102,
   "id": "fca557fd",
   "metadata": {},
   "outputs": [
    {
     "name": "stdout",
     "output_type": "stream",
     "text": [
      "Provide values for a, b, c, and n (n>2) to check Fermat \n",
      "4321\n",
      "try again\n"
     ]
    }
   ],
   "source": [
    "a, b, c, n = input(\"Provide values for a, b, c, and n (n>2) to check Fermat \\n\")\n",
    "check_fermat(a, b, c, n)"
   ]
  },
  {
   "cell_type": "code",
   "execution_count": 106,
   "id": "44bc20dc",
   "metadata": {},
   "outputs": [
    {
     "name": "stdout",
     "output_type": "stream",
     "text": [
      "Provide values for a, b, c, and n (n>2) to check Fermat \n",
      "1234\n",
      "10\n",
      "try again\n"
     ]
    }
   ],
   "source": [
    "check_fermat()"
   ]
  },
  {
   "cell_type": "code",
   "execution_count": null,
   "id": "fc54f780",
   "metadata": {},
   "outputs": [],
   "source": []
  }
 ],
 "metadata": {
  "kernelspec": {
   "display_name": "Python 3 (ipykernel)",
   "language": "python",
   "name": "python3"
  },
  "language_info": {
   "codemirror_mode": {
    "name": "ipython",
    "version": 3
   },
   "file_extension": ".py",
   "mimetype": "text/x-python",
   "name": "python",
   "nbconvert_exporter": "python",
   "pygments_lexer": "ipython3",
   "version": "3.8.11"
  }
 },
 "nbformat": 4,
 "nbformat_minor": 5
}
