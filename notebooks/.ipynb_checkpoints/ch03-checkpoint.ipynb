{
 "cells": [
  {
   "cell_type": "code",
   "execution_count": 1,
   "id": "9578910d",
   "metadata": {},
   "outputs": [],
   "source": [
    "def repeat_lyrics():\n",
    "    print_lyrics()\n",
    "    print_lyrics()"
   ]
  },
  {
   "cell_type": "code",
   "execution_count": 2,
   "id": "1b658d08",
   "metadata": {},
   "outputs": [],
   "source": [
    "def print_lyrics():\n",
    "    print('hi')\n",
    "    print('how do you do?')\n",
    "    "
   ]
  },
  {
   "cell_type": "code",
   "execution_count": 3,
   "id": "41df261d",
   "metadata": {},
   "outputs": [
    {
     "name": "stdout",
     "output_type": "stream",
     "text": [
      "hi\n",
      "how do you do?\n",
      "hi\n",
      "how do you do?\n"
     ]
    }
   ],
   "source": [
    "repeat_lyrics()"
   ]
  },
  {
   "cell_type": "code",
   "execution_count": 5,
   "id": "beff5d0a",
   "metadata": {},
   "outputs": [],
   "source": [
    "def print_twice(bruce):\n",
    "    print(bruce)\n",
    "    print(bruce)\n",
    "    "
   ]
  },
  {
   "cell_type": "code",
   "execution_count": 10,
   "id": "431c962e",
   "metadata": {},
   "outputs": [
    {
     "name": "stdout",
     "output_type": "stream",
     "text": [
      "twice twice twice twice \n",
      "twice twice twice twice \n"
     ]
    }
   ],
   "source": [
    "print_twice((bruce + ' ')*4)"
   ]
  },
  {
   "cell_type": "code",
   "execution_count": 6,
   "id": "3af03d77",
   "metadata": {},
   "outputs": [],
   "source": [
    "bruce = 'twice'"
   ]
  },
  {
   "cell_type": "code",
   "execution_count": 11,
   "id": "368e2f40",
   "metadata": {},
   "outputs": [],
   "source": [
    "def right_justify(s):\n",
    "    print(((70 - len(s)) * ' ') + s)"
   ]
  },
  {
   "cell_type": "code",
   "execution_count": 12,
   "id": "4beddf78",
   "metadata": {},
   "outputs": [
    {
     "name": "stdout",
     "output_type": "stream",
     "text": [
      "                                                           am I right?\n"
     ]
    }
   ],
   "source": [
    "right_justify('am I right?')"
   ]
  },
  {
   "cell_type": "code",
   "execution_count": 13,
   "id": "7d323390",
   "metadata": {},
   "outputs": [
    {
     "name": "stdout",
     "output_type": "stream",
     "text": [
      "                                                             no, I am!\n"
     ]
    }
   ],
   "source": [
    "right_justify('no, I am!')"
   ]
  },
  {
   "cell_type": "code",
   "execution_count": 4,
   "id": "3e750f99",
   "metadata": {},
   "outputs": [],
   "source": [
    "def do_twice(f, v):\n",
    "    f(v)\n",
    "    f(v)"
   ]
  },
  {
   "cell_type": "code",
   "execution_count": 2,
   "id": "a34b369e",
   "metadata": {},
   "outputs": [],
   "source": [
    "def print_spam():\n",
    "    print('spam')"
   ]
  },
  {
   "cell_type": "code",
   "execution_count": 6,
   "id": "0af41593",
   "metadata": {},
   "outputs": [
    {
     "name": "stdout",
     "output_type": "stream",
     "text": [
      "spam\n",
      "spam\n",
      "spam\n",
      "spam\n"
     ]
    }
   ],
   "source": [
    "do_twice(print_twice, 'spam')"
   ]
  },
  {
   "cell_type": "code",
   "execution_count": 7,
   "id": "b069256f",
   "metadata": {},
   "outputs": [],
   "source": [
    "def do_four(f, v):\n",
    "    do_twice(f, v)\n",
    "    do_twice(f, v)"
   ]
  },
  {
   "cell_type": "code",
   "execution_count": 8,
   "id": "1f76d8b3",
   "metadata": {},
   "outputs": [
    {
     "name": "stdout",
     "output_type": "stream",
     "text": [
      "spam\n",
      "spam\n",
      "spam\n",
      "spam\n",
      "spam\n",
      "spam\n",
      "spam\n",
      "spam\n"
     ]
    }
   ],
   "source": [
    "do_four(print_twice, 'spam')"
   ]
  },
  {
   "cell_type": "code",
   "execution_count": 3,
   "id": "63078cb2",
   "metadata": {},
   "outputs": [
    {
     "name": "stdout",
     "output_type": "stream",
     "text": [
      "+ - - - - + - - - - +\n"
     ]
    }
   ],
   "source": [
    "print(2 * ('+ - - - - ') + '+')"
   ]
  },
  {
   "cell_type": "code",
   "execution_count": 9,
   "id": "4ed6dba0",
   "metadata": {},
   "outputs": [
    {
     "name": "stdout",
     "output_type": "stream",
     "text": [
      "+ - - - - + - - - - +\n",
      "|         |         |\n",
      "|         |         |\n",
      "|         |         |\n",
      "|         |         |\n",
      "+ - - - - + - - - - +\n",
      "|         |         |\n",
      "|         |         |\n",
      "|         |         |\n",
      "|         |         |\n",
      "+ - - - - + - - - - +\n"
     ]
    }
   ],
   "source": [
    "print(2 * ('+ - - - - ') + '+')\n",
    "print(2 * ('|         ') + '|')\n",
    "print(2 * ('|         ') + '|')\n",
    "print(2 * ('|         ') + '|')\n",
    "print(2 * ('|         ') + '|')\n",
    "print(2 * ('+ - - - - ') + '+')\n",
    "print(2 * ('|         ') + '|')\n",
    "print(2 * ('|         ') + '|')\n",
    "print(2 * ('|         ') + '|')\n",
    "print(2 * ('|         ') + '|')\n",
    "print(2 * ('+ - - - - ') + '+')"
   ]
  },
  {
   "cell_type": "code",
   "execution_count": null,
   "id": "727f7a29",
   "metadata": {},
   "outputs": [],
   "source": []
  }
 ],
 "metadata": {
  "kernelspec": {
   "display_name": "Python 3 (ipykernel)",
   "language": "python",
   "name": "python3"
  },
  "language_info": {
   "codemirror_mode": {
    "name": "ipython",
    "version": 3
   },
   "file_extension": ".py",
   "mimetype": "text/x-python",
   "name": "python",
   "nbconvert_exporter": "python",
   "pygments_lexer": "ipython3",
   "version": "3.8.11"
  }
 },
 "nbformat": 4,
 "nbformat_minor": 5
}
